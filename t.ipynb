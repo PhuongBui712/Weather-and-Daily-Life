{
 "cells": [
  {
   "cell_type": "code",
   "execution_count": 14,
   "metadata": {},
   "outputs": [],
   "source": [
    "from selenium import webdriver\n",
    "from selenium.webdriver.chrome.service import Service\n",
    "from selenium.webdriver.chrome.options import Options\n",
    "from webdriver_manager.chrome import ChromeDriverManager\n",
    "from selenium.webdriver.common.by import By\n",
    "import time\n",
    "from datetime import datetime\n",
    "import requests\n",
    "import os\n",
    "#import schedule\n",
    "import pytz\n",
    "import json"
   ]
  },
  {
   "cell_type": "code",
   "execution_count": 10,
   "metadata": {},
   "outputs": [],
   "source": [
    "CMT8_Pham_Van_Hai= \"http://giaothong.hochiminhcity.gov.vn/expandcameraplayer/?camId=63ae7cfcbfd3d90017e8f422&camLocation=C%C3%A1ch%20M%E1%BA%A1ng%20Th%C3%A1ng%20T%C3%A1m%20%E2%80%93%20Ph%E1%BA%A1m%20V%C4%83n%20Hai&camMode=camera&videoUrl=https://d2zihajmogu5jn.cloudfront.net/bipbop-advanced/bipbop_16x9_variant.m3u8\"\n",
    "CMT8_Bac_Hai = \"http://giaothong.hochiminhcity.gov.vn/expandcameraplayer/?camId=63ae798abfd3d90017e8f255&camLocation=C%C3%A1ch%20M%E1%BA%A1ng%20Th%C3%A1ng%20T%C3%A1m%20-%20B%E1%BA%AFc%20H%E1%BA%A3i&camMode=camera&videoUrl=https://d2zihajmogu5jn.cloudfront.net/bipbop-advanced/bipbop_16x9_variant.m3u8\"\n",
    "CMT8_Truong_Son = \"http://giaothong.hochiminhcity.gov.vn/expandcameraplayer/?camId=63ae79aabfd3d90017e8f26a&camLocation=C%C3%A1ch%20M%E1%BA%A1ng%20Th%C3%A1ng%20T%C3%A1m%20-%20Tr%C6%B0%E1%BB%9Dng%20S%C6%A1n&camMode=camera&videoUrl=https://d2zihajmogu5jn.cloudfront.net/bipbop-advanced/bipbop_16x9_variant.m3u8\"\n",
    "CMT8_To_Hien_Thanh = \"http://giaothong.hochiminhcity.gov.vn/expandcameraplayer/?camId=63ae7966bfd3d90017e8f240&camLocation=C%C3%A1ch%20M%E1%BA%A1ng%20Th%C3%A1ng%20T%C3%A1m%20-%20T%C3%B4%20Hi%E1%BA%BFn%20Th%C3%A0nh&camMode=camera&videoUrl=https://d2zihajmogu5jn.cloudfront.net/bipbop-advanced/bipbop_16x9_variant.m3u8\"\n",
    "CMT8_Hoa_Hung = \"http://giaothong.hochiminhcity.gov.vn/expandcameraplayer/?camId=631955e7c9eae60017a1c30a&camLocation=C%C3%A1ch%20M%E1%BA%A1ng%20Th%C3%A1ng%20T%C3%A1m%20%E2%80%93%20H%C3%B2a%20H%C6%B0ng&camMode=camera&videoUrl=https://d2zihajmogu5jn.cloudfront.net/bipbop-advanced/bipbop_16x9_variant.m3u8\"\n",
    "\n",
    "cameras = [CMT8_Pham_Van_Hai, CMT8_Bac_Hai, CMT8_Truong_Son, CMT8_To_Hien_Thanh, CMT8_Hoa_Hung]"
   ]
  },
  {
   "cell_type": "code",
   "execution_count": 16,
   "metadata": {},
   "outputs": [],
   "source": [
    "def image_processing (img):\n",
    "    url = 'http://157.230.44.40:5000/process_traffic_status'\n",
    "    result = requests.post(url, files={'image': img})\n",
    "    result = result.json()\n",
    "    return result"
   ]
  },
  {
   "cell_type": "code",
   "execution_count": 62,
   "metadata": {},
   "outputs": [],
   "source": [
    "import os\n",
    "\n",
    "options = Options()\n",
    "options.add_argument('--headless')\n",
    "options.add_argument('--no-sandbox')\n",
    "options.add_argument('--disable-dev-shm-usage')\n",
    "driver = webdriver.Chrome(service=Service(ChromeDriverManager().install()), options=options)\n",
    "\n",
    "camera_data = []\n",
    "cam_locations = ['Pham Van Hai', 'Bac Hai', 'Truong Son', 'To Hien Thanh', 'Hoa Hung']\n",
    "for index, (cam, ith, cam_location) in enumerate(zip(cameras, range(1,len(cameras)+1), cam_locations)):\n",
    "    if ith != 1:\n",
    "        driver.execute_script(f\"window.open('about:blank','{str(ith)}ndtab');\")\n",
    "        driver.switch_to.window(f\"{str(ith)}ndtab\")\n",
    "\n",
    "    driver.get(cam)\n",
    "    driver.set_window_size(1000, 800)\n",
    "    driver.save_screenshot(\"cam\" + str(ith) +\".png\")\n",
    "    with open(\"cam\" + str(ith) +\".png\", \"rb\") as image_file:\n",
    "        image_bytes = image_file.read()\n",
    "    camera =  image_processing (image_bytes)\n",
    "    camera['location'] = cam_location\n",
    "    camera_data.append(camera)\n",
    "\n",
    "    os.remove(\"cam\" + str(ith) +\".png\")\n"
   ]
  },
  {
   "cell_type": "code",
   "execution_count": 67,
   "metadata": {},
   "outputs": [
    {
     "data": {
      "text/plain": [
       "datetime.datetime(2024, 3, 29, 5, 16, 20, 944368, tzinfo=<DstTzInfo 'Asia/Saigon' +07+7:00:00 STD>)"
      ]
     },
     "execution_count": 67,
     "metadata": {},
     "output_type": "execute_result"
    }
   ],
   "source": [
    "Saigon_timezone = pytz.timezone('Asia/Saigon')\n",
    "dt_obj = datetime.now(Saigon_timezone)\n",
    "dt_obj"
   ]
  },
  {
   "cell_type": "code",
   "execution_count": null,
   "metadata": {},
   "outputs": [],
   "source": []
  },
  {
   "cell_type": "code",
   "execution_count": 60,
   "metadata": {},
   "outputs": [
    {
     "data": {
      "text/plain": [
       "{'time': <module 'time' (built-in)>,\n",
       " 'person': 5,\n",
       " 'bicycle': 1,\n",
       " 'motorcycle': 0,\n",
       " 'car': 2,\n",
       " 'stop_sign': 0,\n",
       " 'traffic_light': 3,\n",
       " 'truck': 0,\n",
       " 'bus': 0,\n",
       " 'potted_plant': 0,\n",
       " 'traffic_status': 'Low',\n",
       " 'location': 'Pham Van Hai'}"
      ]
     },
     "execution_count": 60,
     "metadata": {},
     "output_type": "execute_result"
    }
   ],
   "source": [
    "res = camera_data[0]\n",
    "\n",
    "traffic_json = {}\n",
    "traffic_json['time'] = time\n",
    "traffic_json['person'] = res['object_counts'].get('person', 0)\n",
    "traffic_json['bicycle'] = res['object_counts'].get('bicycle', 0)\n",
    "traffic_json['motorcycle'] = res['object_counts'].get('motorcycle', 0)\n",
    "traffic_json['car'] = res['object_counts'].get('car', 0)\n",
    "traffic_json['stop_sign'] = res['object_counts'].get('stop sign', 0)\n",
    "traffic_json['traffic_light'] = res['object_counts'].get('traffic light', 0)\n",
    "traffic_json['truck'] = res['object_counts'].get('truck', 0)\n",
    "traffic_json['bus'] = res['object_counts'].get('bus', 0)\n",
    "traffic_json['potted_plant'] = res['object_counts'].get('potted plant', 0)\n",
    "traffic_json['traffic_status'] = res.get('traffic_status', 'Medium')\n",
    "traffic_json['location'] = res.get('location', 'None')\n",
    "traffic_json"
   ]
  },
  {
   "cell_type": "code",
   "execution_count": 61,
   "metadata": {},
   "outputs": [
    {
     "data": {
      "text/plain": [
       "{'object_counts': {'bicycle': 1,\n",
       "  'car': 2,\n",
       "  'fire hydrant': 1,\n",
       "  'person': 5,\n",
       "  'traffic light': 3},\n",
       " 'timestamp': '04-04-58',\n",
       " 'traffic_status': 'Low',\n",
       " 'location': 'Pham Van Hai',\n",
       " 'time': <module 'time' (built-in)>}"
      ]
     },
     "execution_count": 61,
     "metadata": {},
     "output_type": "execute_result"
    }
   ],
   "source": [
    "camera_data[0]"
   ]
  },
  {
   "cell_type": "code",
   "execution_count": 51,
   "metadata": {},
   "outputs": [
    {
     "data": {
      "text/plain": [
       "{'data': {'time': '2024-03-28T21:02:00Z',\n",
       "  'values': {'cloudBase': 0.26,\n",
       "   'cloudCeiling': None,\n",
       "   'cloudCover': 44,\n",
       "   'dewPoint': 26,\n",
       "   'freezingRainIntensity': 0,\n",
       "   'humidity': 89,\n",
       "   'precipitationProbability': 0,\n",
       "   'pressureSurfaceLevel': 1010.38,\n",
       "   'rainIntensity': 0,\n",
       "   'sleetIntensity': 0,\n",
       "   'snowIntensity': 0,\n",
       "   'temperature': 28,\n",
       "   'temperatureApparent': 33.57,\n",
       "   'uvHealthConcern': 0,\n",
       "   'uvIndex': 0,\n",
       "   'visibility': 9.99,\n",
       "   'weatherCode': 1101,\n",
       "   'windDirection': 140,\n",
       "   'windGust': 4.69,\n",
       "   'windSpeed': 3.63}},\n",
       " 'location': {'lat': 10.7829647, 'lon': 106.670745}}"
      ]
     },
     "execution_count": 51,
     "metadata": {},
     "output_type": "execute_result"
    }
   ],
   "source": [
    "realtime_url = \"https://api.tomorrow.io/v4/weather/realtime?location=10.7829647,106.670745&apikey=Ez2hSkCFqMrvsXGs56HWnk7eWcKGwGP8\"\n",
    "daytime_url = \"https://api.tomorrow.io/v4/timelines?apikey=Ez2hSkCFqMrvsXGs56HWnk7eWcKGwGP8\"\n",
    "\n",
    "payload = {\n",
    "    \"location\": \"10.7829647,106.670745\",\n",
    "    \"fields\": [\"temperature\", \"cloudBase\", \"cloudCeiling\", \"cloudCover\", \"dewPoint\", \"freezingRainIntensity\", \"humidity\", \"precipitationProbability\", \"pressureSurfaceLevel\", \"rainIntensity\", \"sleetIntensity\", \"snowIntensity\", \"temperatureApparent\", \"uvHealthConcern\", \"uvIndex\", \"visibility\", \"weatherCode\", \"windDirection\", \"windGust\", \"windSpeed\"],\n",
    "    \"units\": \"metric\",\n",
    "    \"timesteps\": [\"15m\"],\n",
    "    \"startTime\": \"nowMinus24h\",\n",
    "    \"endTime\": \"now\",\n",
    "    \"timezone\": \"auto\"\n",
    "}\n",
    "headers = {\n",
    "    \"accept\": \"application/json\",\n",
    "    \"Accept-Encoding\": \"gzip\",\n",
    "    \"content-type\": \"application/json\"\n",
    "}\n",
    "\n",
    "\n",
    "headers = {\"accept\": \"application/json\"}\n",
    "response = requests.get(realtime_url, headers=headers)\n",
    "response_data = response.json()\n",
    "\n",
    "\n",
    "response_data"
   ]
  }
 ],
 "metadata": {
  "kernelspec": {
   "display_name": "Python 3",
   "language": "python",
   "name": "python3"
  },
  "language_info": {
   "codemirror_mode": {
    "name": "ipython",
    "version": 3
   },
   "file_extension": ".py",
   "mimetype": "text/x-python",
   "name": "python",
   "nbconvert_exporter": "python",
   "pygments_lexer": "ipython3",
   "version": "3.10.12"
  }
 },
 "nbformat": 4,
 "nbformat_minor": 2
}
