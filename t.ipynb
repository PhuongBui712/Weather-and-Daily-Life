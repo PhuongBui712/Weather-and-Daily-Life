{
 "cells": [
  {
   "cell_type": "code",
   "execution_count": 6,
   "metadata": {},
   "outputs": [],
   "source": [
    "import requests\n",
    "import uuid\n",
    "import json\n",
    "\n",
    "realtime_url = \"https://api.tomorrow.io/v4/weather/realtime?location=10.7829647,106.670745&apikey=Ez2hSkCFqMrvsXGs56HWnk7eWcKGwGP8\"\n",
    "\n",
    "def get_weather():\n",
    "    headers = {\"accept\": \"application/json\"}\n",
    "    response = requests.get(realtime_url, headers=headers)\n",
    "    response_data = response.json()\n",
    "\n",
    "    return response_data\n",
    "def format_weather(res, option=\"weather\"):\n",
    "    location ={}\n",
    "    location['location_id'] = str(uuid.uuid4())\n",
    "    location['latitude'] = res['location']['lat']\n",
    "    location['longitude'] = res['location']['lon']\n",
    "\n",
    "    weather = {}\n",
    "    weather['time'] = res['data']['time']\n",
    "    weather = res['data']['values']\n",
    "\n",
    "    if option == \"weather\":\n",
    "        return weather\n",
    "    elif option == \"location\":\n",
    "        return location\n",
    "    else:\n",
    "        raise ValueError(\"Option must be weather or location\")"
   ]
  },
  {
   "cell_type": "code",
   "execution_count": 15,
   "metadata": {},
   "outputs": [],
   "source": [
    "class UUIDEncoder(json.JSONEncoder):\n",
    "    def default(self, obj):\n",
    "        if isinstance(obj, uuid.UUID):\n",
    "            # if the obj is uuid, we simply return the value of uuid\n",
    "            return obj.hex\n",
    "        return json.JSONEncoder.default(self, obj)"
   ]
  },
  {
   "cell_type": "code",
   "execution_count": 10,
   "metadata": {},
   "outputs": [],
   "source": [
    "response_data = get_weather()"
   ]
  },
  {
   "cell_type": "code",
   "execution_count": 11,
   "metadata": {},
   "outputs": [],
   "source": [
    "response_weather = format_weather(response_data, option=\"weather\")\n",
    "response_location = format_weather(response_data, option=\"location\")"
   ]
  },
  {
   "cell_type": "code",
   "execution_count": 17,
   "metadata": {},
   "outputs": [
    {
     "data": {
      "text/plain": [
       "b'{\"location_id\": \"cd2542a3-b610-4556-b55a-8055203eb90e\", \"latitude\": 10.7829647, \"longitude\": 106.670745}'"
      ]
     },
     "execution_count": 17,
     "metadata": {},
     "output_type": "execute_result"
    }
   ],
   "source": [
    "json.dumps(response_location, cls=UUIDEncoder).encode('utf-8')"
   ]
  }
 ],
 "metadata": {
  "kernelspec": {
   "display_name": "Python 3",
   "language": "python",
   "name": "python3"
  },
  "language_info": {
   "codemirror_mode": {
    "name": "ipython",
    "version": 3
   },
   "file_extension": ".py",
   "mimetype": "text/x-python",
   "name": "python",
   "nbconvert_exporter": "python",
   "pygments_lexer": "ipython3",
   "version": "3.10.12"
  }
 },
 "nbformat": 4,
 "nbformat_minor": 2
}
