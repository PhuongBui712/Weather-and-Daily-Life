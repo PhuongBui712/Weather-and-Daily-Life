{
 "cells": [
  {
   "cell_type": "code",
   "execution_count": 1,
   "metadata": {},
   "outputs": [],
   "source": [
    "import requests\n",
    "import uuid\n",
    "import json\n",
    "from datetime import datetime\n",
    "import time "
   ]
  },
  {
   "cell_type": "code",
   "execution_count": 2,
   "metadata": {},
   "outputs": [],
   "source": [
    "realtime_url = \"https://api.tomorrow.io/v4/weather/realtime?location=10.7829647,106.670745&apikey=Ez2hSkCFqMrvsXGs56HWnk7eWcKGwGP8\"\n",
    "daytime_url = \"https://api.tomorrow.io/v4/timelines?apikey=Ez2hSkCFqMrvsXGs56HWnk7eWcKGwGP8\""
   ]
  },
  {
   "cell_type": "code",
   "execution_count": 3,
   "metadata": {},
   "outputs": [],
   "source": [
    "payload = {\n",
    "    \"location\": \"10.7829647,106.670745\",\n",
    "    \"fields\": [\"temperature\", \"cloudBase\", \"cloudCeiling\", \"cloudCover\", \"dewPoint\", \"freezingRainIntensity\", \"humidity\", \"precipitationProbability\", \"pressureSurfaceLevel\", \"rainIntensity\", \"sleetIntensity\", \"snowIntensity\", \"temperatureApparent\", \"uvHealthConcern\", \"uvIndex\", \"visibility\", \"weatherCode\", \"windDirection\", \"windGust\", \"windSpeed\"],\n",
    "    \"units\": \"metric\",\n",
    "    \"timesteps\": [\"15m\"],\n",
    "    \"startTime\": \"nowMinus24h\",\n",
    "    \"endTime\": \"now\",\n",
    "    \"timezone\": \"auto\"\n",
    "}\n",
    "headers = {\n",
    "    \"accept\": \"application/json\",\n",
    "    \"Accept-Encoding\": \"gzip\",\n",
    "    \"content-type\": \"application/json\"\n",
    "}"
   ]
  },
  {
   "cell_type": "code",
   "execution_count": 4,
   "metadata": {},
   "outputs": [],
   "source": [
    "from datetime import datetime"
   ]
  },
  {
   "cell_type": "code",
   "execution_count": 5,
   "metadata": {},
   "outputs": [],
   "source": [
    "strin = datetime.now()"
   ]
  },
  {
   "cell_type": "code",
   "execution_count": 6,
   "metadata": {},
   "outputs": [
    {
     "data": {
      "text/plain": [
       "str"
      ]
     },
     "execution_count": 6,
     "metadata": {},
     "output_type": "execute_result"
    }
   ],
   "source": [
    "formatted_timestamp = strin.strftime(\"%Y-%m-%d %H:%M:%S.%f%z\")\n",
    "type(formatted_timestamp)"
   ]
  },
  {
   "cell_type": "code",
   "execution_count": 7,
   "metadata": {},
   "outputs": [
    {
     "data": {
      "text/plain": [
       "{'data': {'time': '2024-03-20T08:20:00Z',\n",
       "  'values': {'cloudBase': 2.39,\n",
       "   'cloudCeiling': None,\n",
       "   'cloudCover': 26.56,\n",
       "   'dewPoint': 18.71,\n",
       "   'freezingRainIntensity': 0,\n",
       "   'humidity': 39.13,\n",
       "   'precipitationProbability': 0,\n",
       "   'pressureSurfaceLevel': 1009.5,\n",
       "   'rainIntensity': 0,\n",
       "   'sleetIntensity': 0,\n",
       "   'snowIntensity': 0,\n",
       "   'temperature': 34.64,\n",
       "   'temperatureApparent': 36.32,\n",
       "   'uvHealthConcern': 1,\n",
       "   'uvIndex': 4,\n",
       "   'visibility': 16,\n",
       "   'weatherCode': 1100,\n",
       "   'windDirection': 145.56,\n",
       "   'windGust': 10.26,\n",
       "   'windSpeed': 5.75}},\n",
       " 'location': {'lat': 10.7829647, 'lon': 106.670745}}"
      ]
     },
     "execution_count": 7,
     "metadata": {},
     "output_type": "execute_result"
    }
   ],
   "source": [
    "headers = {\"accept\": \"application/json\"}\n",
    "response = requests.get(realtime_url, headers=headers)\n",
    "response_data = response.json()\n",
    "response_data"
   ]
  },
  {
   "cell_type": "code",
   "execution_count": 29,
   "metadata": {},
   "outputs": [
    {
     "data": {
      "text/plain": [
       "int"
      ]
     },
     "execution_count": 29,
     "metadata": {},
     "output_type": "execute_result"
    }
   ],
   "source": [
    "type(response_data['data']['values']['visibility'])"
   ]
  },
  {
   "cell_type": "code",
   "execution_count": 21,
   "metadata": {},
   "outputs": [],
   "source": [
    "location ={}\n",
    "location['location_id'] = str(uuid.uuid4())\n",
    "location['latitude'] = response_data['location']['lat']\n",
    "location['longitude'] = response_data['location']['lon']\n",
    "\n",
    "weather = {}\n",
    "weather['time'] = response_data['data']['time']\n",
    "weather.update(response_data['data']['values'])"
   ]
  },
  {
   "cell_type": "code",
   "execution_count": 29,
   "metadata": {},
   "outputs": [
    {
     "data": {
      "text/plain": [
       "set()"
      ]
     },
     "execution_count": 29,
     "metadata": {},
     "output_type": "execute_result"
    }
   ],
   "source": [
    "{5} - {5,6}"
   ]
  },
  {
   "cell_type": "code",
   "execution_count": null,
   "metadata": {},
   "outputs": [],
   "source": []
  }
 ],
 "metadata": {
  "kernelspec": {
   "display_name": "Python 3",
   "language": "python",
   "name": "python3"
  },
  "language_info": {
   "codemirror_mode": {
    "name": "ipython",
    "version": 3
   },
   "file_extension": ".py",
   "mimetype": "text/x-python",
   "name": "python",
   "nbconvert_exporter": "python",
   "pygments_lexer": "ipython3",
   "version": "3.10.12"
  }
 },
 "nbformat": 4,
 "nbformat_minor": 2
}
